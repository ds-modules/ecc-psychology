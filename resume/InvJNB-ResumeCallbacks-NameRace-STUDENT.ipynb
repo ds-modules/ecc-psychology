{
  "cells": [
    {
      "cell_type": "markdown",
      "metadata": {},
      "source": [
        "<div class=\"alert alert-block alert-danger\">\n",
        "\n",
        "# InvJNB: Are Emily and Greg More Employable Than Lakisha and Jamal?\n",
        "\n",
        "**Standalone Investigation Notebook**  \n",
        "**Use with CourseKata intro chapters or as standalone**  \n",
        "**Kernel: R**\n",
        "\n",
        "</div>\n"
      ]
    },
    {
      "cell_type": "markdown",
      "metadata": {},
      "source": [
        "<div class=\"alert alert-block alert-warning\">\n",
        "\n",
        "#### Summary of Notebook\n",
        "\n",
        "In 2004, researchers sent identical resumes with different names to job postings and recorded callback rates. This investigation explores whether names associated with different races affect callback rates, starting with gender comparisons and moving to race/name analysis. Students will comprehensively explore the dataset, compute descriptive statistics, visualize patterns, and optionally use advanced techniques like shuffle tests and multiple variable analyses.\n",
        "\n",
        "#### Includes\n",
        "\n",
        "- Comprehensive data exploration (all 63 variables)\n",
        "- Descriptive comparisons by gender and race\n",
        "- Name-race relationship exploration\n",
        "- Optional: Distribution triad and DGP concepts\n",
        "- Optional: Shuffle tests for evaluating chance vs. pattern\n",
        "- Optional: Multiple variable analysis and effect sizes\n",
        "\n",
        "</div>\n"
      ]
    },
    {
      "cell_type": "markdown",
      "metadata": {},
      "source": [
        "<div class=\"alert alert-block alert-success\">\n",
        "\n",
        "## Approximate time to complete Notebook: 60-140 mins (depends on optional sections)\n",
        "\n",
        "**Core sections (1.0-5.0): 60-75 mins**  \n",
        "**With all optional advanced sections: 120-140 mins**\n",
        "\n",
        "</div>\n"
      ]
    },
    {
      "cell_type": "markdown",
      "metadata": {},
      "source": [
        "<div class=\"alert alert-block alert-success\">\n",
        "\n",
        "### Intro — Approximate Time: 3-5 mins\n",
        "\n",
        "</div>\n"
      ]
    },
    {
      "cell_type": "markdown",
      "metadata": {},
      "source": [
        "### The 2004 Resume Study\n",
        "\n",
        "In 2004, researchers Marianne Bertrand and Sendhil Mullainathan conducted a field experiment. They created resumes that were identical except for the names—some had names typically associated with White people (like Emily and Greg) and others had names typically associated with Black people (like Lakisha and Jamal). They sent these resumes to job postings and recorded which ones received callbacks.\n",
        "\n",
        "**Key Research Questions:**\n",
        "- Do names signal race to employers?\n",
        "- Does this affect callback rates?\n",
        "- What does this mean for creating effective resumes?\n",
        "\n",
        "**Study Reference:**  \n",
        "Bertrand, M., & Mullainathan, S. (2004). Are Emily and Greg More Employable Than Lakisha and Jamal? A Field Experiment on Labor Market Discrimination. *American Economic Review*, 94(4), 991-1013.\n"
      ]
    },
    {
      "cell_type": "markdown",
      "metadata": {},
      "source": [
        "At the beginning of each notebook, load the packages you will use. Always run this first.\n"
      ]
    },
    {
      "cell_type": "code",
      "execution_count": null,
      "metadata": {
        "vscode": {
          "languageId": "r"
        }
      },
      "outputs": [],
      "source": [
        "# Install coursekata if not already installed\n",
        "if (!require(\"coursekata\", quietly = TRUE)) {\n",
        "    install.packages(\"coursekata\", repos = \"https://cloud.r-project.org\")\n",
        "}\n",
        "\n",
        "suppressPackageStartupMessages({\n",
        "    library(coursekata)\n",
        "    library(dplyr)\n",
        "    library(tidyr)\n",
        "})\n"
      ]
    },
    {
      "cell_type": "markdown",
      "metadata": {},
      "source": [
        "<div class=\"alert alert-block alert-success\">\n",
        "\n",
        "### 1.0 — Approximate Time: 12-15 mins\n",
        "\n",
        "</div>\n"
      ]
    },
    {
      "cell_type": "markdown",
      "metadata": {},
      "source": [
        "## 1.0 — Comprehensive Data Exploration\n",
        "\n",
        "Before analyzing anything, we need to understand what data we have. This dataset contains information about resumes sent to job postings and whether they received callbacks.\n",
        "\n",
        "1.1 — Load the data and check its dimensions. How many rows (resumes) and columns (variables) are in this dataset? What does each row represent?\n"
      ]
    },
    {
      "cell_type": "code",
      "execution_count": null,
      "metadata": {
        "vscode": {
          "languageId": "r"
        }
      },
      "outputs": [],
      "source": [
        "# Load data from the same folder as this notebook\n",
        "\n",
        "df <- read.csv(\"labor_market_discrimination.csv\")\n",
        "\n",
        "# How many rows and columns?\n",
        "dim(df)\n",
        "\n",
        "# What does each row represent?\n",
        "head(df, 3)\n"
      ]
    },
    {
      "cell_type": "markdown",
      "metadata": {},
      "source": [
        "__Type your answer here__\n"
      ]
    },
    {
      "cell_type": "markdown",
      "metadata": {},
      "source": [
        "1.2 — Look at all the variable names. Which ones seem most relevant for studying callback rates? Try to categorize them: resume characteristics, job/context variables, and outcome variables.\n"
      ]
    },
    {
      "cell_type": "code",
      "execution_count": null,
      "metadata": {
        "vscode": {
          "languageId": "r"
        }
      },
      "outputs": [],
      "source": [
        "# View all column names\n",
        "names(df)\n",
        "length(names(df))\n",
        "\n",
        "# Print them in a more readable format\n",
        "cat(\"Total variables:\", length(names(df)), \"\\n\\n\")\n",
        "cat(\"Variable names:\\n\")\n",
        "cat(names(df), sep = \"\\n\")\n"
      ]
    },
    {
      "cell_type": "markdown",
      "metadata": {},
      "source": [
        "__Type your answer here__\n"
      ]
    },
    {
      "cell_type": "markdown",
      "metadata": {},
      "source": [
        "1.3 — Use `glimpse()` to see the structure of the data. Which variables look categorical? Which look quantitative? What does `call` contain (0s and 1s)?\n"
      ]
    },
    {
      "cell_type": "code",
      "execution_count": null,
      "metadata": {
        "vscode": {
          "languageId": "r"
        }
      },
      "outputs": [],
      "source": [
        "# Get a better view of the data structure\n",
        "glimpse(df)\n"
      ]
    },
    {
      "cell_type": "markdown",
      "metadata": {},
      "source": [
        "__Type your answer here__\n"
      ]
    },
    {
      "cell_type": "markdown",
      "metadata": {},
      "source": [
        "1.4 — Look at a few rows focusing on key variables: `first_name`, `sex`, `race`, and `call`. Also examine some resume characteristics like `education` and `years_exp`. What patterns do you notice?\n"
      ]
    },
    {
      "cell_type": "code",
      "execution_count": null,
      "metadata": {
        "vscode": {
          "languageId": "r"
        }
      },
      "outputs": [],
      "source": [
        "# Look at first few rows of key columns\n",
        "head(df[, c(\"first_name\", \"sex\", \"race\", \"call\", \"education\", \"years_exp\")], 10)\n",
        "\n",
        "# Check unique values for categorical variables\n",
        "cat(\"\\nUnique values for sex:\\n\")\n",
        "unique(df$sex)\n",
        "cat(\"\\nUnique values for race:\\n\")\n",
        "unique(df$race)\n",
        "cat(\"\\nCallback outcomes:\\n\")\n",
        "table(df$call)\n"
      ]
    },
    {
      "cell_type": "markdown",
      "metadata": {},
      "source": [
        "__Type your answer here__\n"
      ]
    },
    {
      "cell_type": "markdown",
      "metadata": {},
      "source": [
        "<div class=\"alert alert-block alert-success\">\n",
        "\n",
        "### 2.0 — Approximate Time: 5-7 mins\n",
        "\n",
        "</div>\n"
      ]
    },
    {
      "cell_type": "markdown",
      "metadata": {},
      "source": [
        "## 2.0 — Overall Callback Rate\n",
        "\n",
        "Before comparing groups, let's establish a baseline: what's the overall callback rate?\n",
        "\n",
        "2.1 — Compute the overall callback rate. What does this number represent in context?\n"
      ]
    },
    {
      "cell_type": "code",
      "execution_count": null,
      "metadata": {
        "vscode": {
          "languageId": "r"
        }
      },
      "outputs": [],
      "source": [
        "mean(df$call, na.rm = TRUE)\n"
      ]
    },
    {
      "cell_type": "markdown",
      "metadata": {},
      "source": [
        "__Type your answer here__\n"
      ]
    },
    {
      "cell_type": "markdown",
      "metadata": {},
      "source": [
        "<div class=\"alert alert-block alert-success\">\n",
        "\n",
        "### 3.0 — Approximate Time: 10-12 mins\n",
        "\n",
        "</div>\n"
      ]
    },
    {
      "cell_type": "markdown",
      "metadata": {},
      "source": [
        "## 3.0 — Callback Rate by Gender\n",
        "\n",
        "Let's start with a simple comparison: do callback rates differ by gender?\n",
        "\n",
        "3.1 — Prediction (no code): Which gender do you expect to have a higher callback rate? Why?\n"
      ]
    },
    {
      "cell_type": "markdown",
      "metadata": {},
      "source": [
        "__Type your answer here__\n"
      ]
    },
    {
      "cell_type": "markdown",
      "metadata": {},
      "source": [
        "3.2 — Compute callback rates by `sex`. What is the observed difference (Female - Male)?\n"
      ]
    },
    {
      "cell_type": "code",
      "execution_count": null,
      "metadata": {
        "vscode": {
          "languageId": "r"
        }
      },
      "outputs": [],
      "source": [
        "# Counts by gender and callback status\n",
        "tally(~ call + sex, data = df)\n",
        "\n",
        "# Proportions by group\n",
        "df %>% group_by(sex) %>% summarize(callback_rate = mean(call, na.rm = TRUE))\n",
        "\n",
        "# Calculate the difference\n",
        "callback_by_sex <- df %>% group_by(sex) %>% summarize(callback_rate = mean(call, na.rm = TRUE))\n",
        "callback_f <- callback_by_sex$callback_rate[callback_by_sex$sex == \"f\"]\n",
        "callback_m <- callback_by_sex$callback_rate[callback_by_sex$sex == \"m\"]\n",
        "cat(\"\\nDifference (Female - Male):\", callback_f - callback_m)\n"
      ]
    },
    {
      "cell_type": "code",
      "execution_count": null,
      "metadata": {
        "vscode": {
          "languageId": "r"
        }
      },
      "outputs": [],
      "source": [
        "# Visualize the callback rates by gender\n",
        "gf_props(~ sex, fill = ~ factor(call), data = df) %>%\n",
        "  gf_labs(x = \"Gender\", fill = \"Callback\", y = \"Proportion\", \n",
        "          title = \"Callback Rates by Gender\")\n"
      ]
    },
    {
      "cell_type": "markdown",
      "metadata": {},
      "source": [
        "__Type your answer here__\n"
      ]
    },
    {
      "cell_type": "markdown",
      "metadata": {},
      "source": [
        "3.3 — Interpret the difference in context. Avoid causal language—describe what you see in the data.\n"
      ]
    },
    {
      "cell_type": "markdown",
      "metadata": {},
      "source": [
        "__Type your answer here__\n"
      ]
    },
    {
      "cell_type": "markdown",
      "metadata": {},
      "source": [
        "3.4 — Is this difference practically meaningful? What would make it more or less meaningful?\n"
      ]
    },
    {
      "cell_type": "markdown",
      "metadata": {},
      "source": [
        "__Type your answer here__\n"
      ]
    },
    {
      "cell_type": "markdown",
      "metadata": {},
      "source": [
        "<div class=\"alert alert-block alert-success\">\n",
        "\n",
        "### 4.0 — Approximate Time: 15-18 mins\n",
        "\n",
        "</div>\n"
      ]
    },
    {
      "cell_type": "markdown",
      "metadata": {},
      "source": [
        "## 4.0 — Names, Race, and Callbacks\n",
        "\n",
        "This is the core research question: Do names signal race, and does this affect callbacks?\n",
        "\n",
        "4.1 — Explore the first names in the dataset. Look at some names associated with White applicants and some associated with Black applicants. Which names seem clearly associated with each group?\n"
      ]
    },
    {
      "cell_type": "code",
      "execution_count": null,
      "metadata": {
        "vscode": {
          "languageId": "r"
        }
      },
      "outputs": [],
      "source": [
        "# Look at names by race\n",
        "names_by_race <- df %>% select(first_name, race) %>% distinct() %>% arrange(race, first_name)\n",
        "\n",
        "# White-sounding names\n",
        "cat(\"Sample of White-sounding names:\\n\")\n",
        "head(names_by_race %>% filter(race == \"w\") %>% pull(first_name), 15)\n",
        "\n",
        "cat(\"\\n\\nSample of Black-sounding names:\\n\")\n",
        "head(names_by_race %>% filter(race == \"b\") %>% pull(first_name), 15)\n"
      ]
    },
    {
      "cell_type": "markdown",
      "metadata": {},
      "source": [
        "__Type your answer here__\n"
      ]
    },
    {
      "cell_type": "markdown",
      "metadata": {},
      "source": [
        "4.2 — Check the relationship between names and the race variable. Are names a good indicator of race in this dataset?\n"
      ]
    },
    {
      "cell_type": "code",
      "execution_count": null,
      "metadata": {
        "vscode": {
          "languageId": "r"
        }
      },
      "outputs": [],
      "source": [
        "# Cross-tabulation of first_name and race\n",
        "# Let's look at a few examples\n",
        "df %>% \n",
        "  select(first_name, race) %>% \n",
        "  distinct() %>% \n",
        "  arrange(race, first_name) %>% \n",
        "  head(20)\n",
        "\n",
        "# Check if names map perfectly to race\n",
        "name_race_check <- df %>% \n",
        "  select(first_name, race) %>% \n",
        "  distinct() %>% \n",
        "  group_by(first_name) %>% \n",
        "  summarize(n_races = n_distinct(race), races = paste(unique(race), collapse = \", \"))\n",
        "\n",
        "# Are there any names that appear in both groups?\n",
        "name_race_check %>% filter(n_races > 1)\n"
      ]
    },
    {
      "cell_type": "markdown",
      "metadata": {},
      "source": [
        "__Type your answer here__\n"
      ]
    },
    {
      "cell_type": "markdown",
      "metadata": {},
      "source": [
        "4.3 — Research question: Are names indicative of race? Based on what you see, can employers infer race from names?\n",
        "\n",
        "4.4 — Now compute callback rates by `race`. What is the difference?\n"
      ]
    },
    {
      "cell_type": "code",
      "execution_count": null,
      "metadata": {
        "vscode": {
          "languageId": "r"
        }
      },
      "outputs": [],
      "source": [
        "# Counts by race and callback status\n",
        "tally(~ call + race, data = df)\n",
        "\n",
        "# Proportions by group\n",
        "callback_by_race <- df %>% group_by(race) %>% summarize(callback_rate = mean(call, na.rm = TRUE))\n",
        "callback_by_race\n",
        "\n",
        "# Calculate the difference\n",
        "callback_w <- callback_by_race$callback_rate[callback_by_race$race == \"w\"]\n",
        "callback_b <- callback_by_race$callback_rate[callback_by_race$race == \"b\"]\n",
        "cat(\"\\nDifference (White - Black):\", callback_w - callback_b)\n"
      ]
    },
    {
      "cell_type": "code",
      "execution_count": null,
      "metadata": {
        "vscode": {
          "languageId": "r"
        }
      },
      "outputs": [],
      "source": [
        "# Visualize callback rates by race\n",
        "gf_props(~ race, fill = ~ factor(call), data = df) %>%\n",
        "  gf_labs(x = \"Race (name-associated)\", fill = \"Callback\", y = \"Proportion\",\n",
        "          title = \"Callback Rates by Race\")\n"
      ]
    },
    {
      "cell_type": "markdown",
      "metadata": {},
      "source": [
        "__Type your answer here__\n"
      ]
    },
    {
      "cell_type": "markdown",
      "metadata": {},
      "source": [
        "4.5 — Interpret the difference descriptively (avoid causal language). What do you observe?\n"
      ]
    },
    {
      "cell_type": "markdown",
      "metadata": {},
      "source": [
        "__Type your answer here__\n"
      ]
    },
    {
      "cell_type": "markdown",
      "metadata": {},
      "source": [
        "4.6 — What cautions should we keep in mind when interpreting these differences? What other factors might be at play?\n"
      ]
    },
    {
      "cell_type": "markdown",
      "metadata": {},
      "source": [
        "__Type your answer here__\n"
      ]
    },
    {
      "cell_type": "markdown",
      "metadata": {},
      "source": [
        "<div class=\"alert alert-block alert-success\">\n",
        "\n",
        "### 5.0 — Approximate Time: 8-10 mins\n",
        "\n",
        "</div>\n"
      ]
    },
    {
      "cell_type": "markdown",
      "metadata": {},
      "source": [
        "## 5.0 — What Makes a Resume Successful?\n",
        "\n",
        "Since you're interested in creating effective resumes, let's explore what resume characteristics relate to callbacks.\n",
        "\n",
        "5.1 — Explore how education level relates to callback rates. Does higher education predict more callbacks?\n",
        "\n",
        "5.2 — What about years of experience? Do more experienced applicants get more callbacks?\n"
      ]
    },
    {
      "cell_type": "code",
      "execution_count": null,
      "metadata": {
        "vscode": {
          "languageId": "r"
        }
      },
      "outputs": [],
      "source": [
        "# Education and callbacks\n",
        "education_callbacks <- df %>% \n",
        "  group_by(education) %>% \n",
        "  summarize(\n",
        "    n = n(),\n",
        "    callback_rate = mean(call, na.rm = TRUE)\n",
        "  ) %>%\n",
        "  arrange(education)\n",
        "\n",
        "education_callbacks\n",
        "\n",
        "# Years of experience and callbacks\n",
        "# Create experience groups for easier comparison\n",
        "df <- df %>% \n",
        "  mutate(exp_group = case_when(\n",
        "    years_exp <= 2 ~ \"0-2 years\",\n",
        "    years_exp <= 5 ~ \"3-5 years\",\n",
        "    years_exp <= 10 ~ \"6-10 years\",\n",
        "    TRUE ~ \"10+ years\"\n",
        "  ))\n",
        "\n",
        "exp_callbacks <- df %>% \n",
        "  group_by(exp_group) %>% \n",
        "  summarize(\n",
        "    n = n(),\n",
        "    callback_rate = mean(call, na.rm = TRUE)\n",
        "  )\n",
        "\n",
        "exp_callbacks\n"
      ]
    },
    {
      "cell_type": "code",
      "execution_count": null,
      "metadata": {
        "vscode": {
          "languageId": "r"
        }
      },
      "outputs": [],
      "source": [
        "# Visualize education and callbacks\n",
        "gf_props(~ factor(education), fill = ~ factor(call), data = df) %>%\n",
        "  gf_labs(x = \"Education Level\", fill = \"Callback\", y = \"Proportion\",\n",
        "          title = \"Callback Rates by Education Level\")\n",
        "\n",
        "# Visualize experience and callbacks\n",
        "gf_props(~ exp_group, fill = ~ factor(call), data = df) %>%\n",
        "  gf_labs(x = \"Years of Experience\", fill = \"Callback\", y = \"Proportion\",\n",
        "          title = \"Callback Rates by Experience\")\n"
      ]
    },
    {
      "cell_type": "markdown",
      "metadata": {},
      "source": [
        "__Type your answer here__\n"
      ]
    },
    {
      "cell_type": "markdown",
      "metadata": {},
      "source": [
        "5.3 — Based on what you've explored, what would you focus on if you were creating a resume? What seems most important?\n"
      ]
    },
    {
      "cell_type": "markdown",
      "metadata": {},
      "source": [
        "__Type your answer here__\n"
      ]
    },
    {
      "cell_type": "markdown",
      "metadata": {},
      "source": [
        "5.4 — How do these resume characteristics compare to the differences we saw by race and gender?\n"
      ]
    },
    {
      "cell_type": "markdown",
      "metadata": {},
      "source": [
        "__Type your answer here__\n"
      ]
    },
    {
      "cell_type": "markdown",
      "metadata": {},
      "source": [
        "<div class=\"alert alert-block alert-success\">\n",
        "\n",
        "### Wrap-Up — Approximate Time: 3-5 mins\n",
        "\n",
        "</div>\n"
      ]
    },
    {
      "cell_type": "markdown",
      "metadata": {},
      "source": [
        "### Summary and Implications\n",
        "\n",
        "- What did we learn about callback rates by gender and race?\n"
      ]
    },
    {
      "cell_type": "markdown",
      "metadata": {},
      "source": [
        "__Type your answer here__\n"
      ]
    },
    {
      "cell_type": "markdown",
      "metadata": {},
      "source": [
        "- What are the limitations of this study design?\n"
      ]
    },
    {
      "cell_type": "markdown",
      "metadata": {},
      "source": [
        "__Type your answer here__\n"
      ]
    },
    {
      "cell_type": "markdown",
      "metadata": {},
      "source": [
        "- What are the implications for:\n",
        "  - Creating effective resumes?\n",
        "  - Understanding discrimination in hiring?\n",
        "  - The broader question of fairness in employment?\n"
      ]
    },
    {
      "cell_type": "markdown",
      "metadata": {},
      "source": [
        "__Type your answer here__\n"
      ]
    },
    {
      "cell_type": "markdown",
      "metadata": {},
      "source": [
        "<div class=\"alert alert-block alert-info\">\n",
        "\n",
        "---\n",
        "\n",
        "## Optional Advanced Sections\n",
        "\n",
        "The sections below use more advanced statistical concepts. You can skip these if you're focusing on descriptive analysis, or include them if you want to explore inference and modeling.\n",
        "\n",
        "*Total additional time: ~30-45 mins*\n",
        "\n",
        "</div>\n"
      ]
    },
    {
      "cell_type": "markdown",
      "metadata": {},
      "source": [
        "<div class=\"alert alert-block alert-success\">\n",
        "\n",
        "### A1.0 — Optional Advanced: Hypotheses and Models — Approximate Time: 5-7 mins\n",
        "\n",
        "**Prerequisite:** Chapter 01 or 08 concepts (DGP, distribution triad)\n",
        "\n",
        "</div>\n"
      ]
    },
    {
      "cell_type": "markdown",
      "metadata": {},
      "source": [
        "<div class=\"alert alert-block alert-warning\">\n",
        "\n",
        "#### Models and the Data Generating Process (DGP)\n",
        "\n",
        "We can think about two competing models for what might have generated our data:\n",
        "- **Empty model:** Data = overall mean callback rate + random error (gender/race unrelated to callbacks)\n",
        "- **Explanatory model:** Data = mean + effect of gender/race + error (gender/race related to callbacks)\n",
        "\n",
        "We use the **distribution triad** to evaluate these models:\n",
        "- **The DGP** (the process that generated the data - empty or explanatory model?)\n",
        "- **The Sample Distribution** (our observed data - the resumes that were sent)\n",
        "- **The Sampling Distribution** (what we'd expect to see if we repeated the process many times)\n",
        "\n",
        "</div>\n"
      ]
    },
    {
      "cell_type": "markdown",
      "metadata": {},
      "source": [
        "A1.1 — In words, what does the empty model say about gender and callbacks?\n",
        "\n",
        "A1.2 — In words, what does the explanatory model say, and how does it differ from the empty model?\n"
      ]
    },
    {
      "cell_type": "markdown",
      "metadata": {},
      "source": [
        "__Type your answer here__\n"
      ]
    },
    {
      "cell_type": "markdown",
      "metadata": {},
      "source": [
        "<div class=\"alert alert-block alert-success\">\n",
        "\n",
        "### A2.0 — Optional Advanced: Shuffle Test for Gender — Approximate Time: 8-10 mins\n",
        "\n",
        "**Prerequisite:** Chapter 04 or 08 (shuffle tests, null distributions)\n",
        "\n",
        "</div>\n"
      ]
    },
    {
      "cell_type": "markdown",
      "metadata": {},
      "source": [
        "## A2.0 — Shuffle Test for Gender\n",
        "\n",
        "A2.1 — If gender were truly unrelated to callbacks (empty model), what would the difference in callback rates look like across many random samples?\n",
        "\n",
        "A2.2 — Use the shuffle test: randomly shuffle the `call` labels many times, calculate the difference each time, and see where our observed difference falls in this null distribution.\n"
      ]
    },
    {
      "cell_type": "code",
      "execution_count": null,
      "metadata": {
        "vscode": {
          "languageId": "r"
        }
      },
      "outputs": [],
      "source": [
        "# Observed difference (Female - Male)\n",
        "obs_diff_gender <- with(df, mean(call[sex == \"f\"], na.rm = TRUE) - mean(call[sex == \"m\"], na.rm = TRUE))\n",
        "cat(\"Observed difference (Female - Male):\", obs_diff_gender, \"\\n\\n\")\n",
        "\n",
        "# Shuffle test: Generate null distribution\n",
        "set.seed(123)\n",
        "n_sims <- 2000\n",
        "sim_diffs_gender <- replicate(n_sims, {\n",
        "  perm <- sample(df$call)\n",
        "  mean(perm[df$sex == \"f\"], na.rm = TRUE) - mean(perm[df$sex == \"m\"], na.rm = TRUE)\n",
        "})\n",
        "\n",
        "# Visualize the null distribution\n",
        "gf_histogram(~ sim_diffs_gender, bins = 30) %>%\n",
        "  gf_vline(xintercept = ~ obs_diff_gender, color = \"red\", size = 1.5) %>%\n",
        "  gf_labs(x = \"Difference in Callback Rate (Female - Male)\",\n",
        "          y = \"Frequency\",\n",
        "          title = \"Null Distribution: What if Gender Had No Effect?\")\n",
        "\n",
        "# Calculate how often we see a difference as extreme or more extreme\n",
        "p_estimate <- mean(abs(sim_diffs_gender) >= abs(obs_diff_gender))\n",
        "cat(\"\\nProportion of simulations with |difference| >= |observed|:\", p_estimate)\n"
      ]
    },
    {
      "cell_type": "markdown",
      "metadata": {},
      "source": [
        "A2.3 — Where does the observed difference fall relative to the null distribution? What does this suggest about which model (empty vs. explanatory) is more plausible?\n",
        "\n",
        "A2.4 — Using the distribution triad, explain what we've learned: What does the null distribution tell us about the DGP, sample, and sampling distribution?\n"
      ]
    },
    {
      "cell_type": "markdown",
      "metadata": {},
      "source": [
        "__Type your answer here__\n"
      ]
    },
    {
      "cell_type": "markdown",
      "metadata": {},
      "source": [
        "<div class=\"alert alert-block alert-success\">\n",
        "\n",
        "### A3.0 — Optional Advanced: Shuffle Test for Race — Approximate Time: 8-10 mins\n",
        "\n",
        "**Prerequisite:** Chapter 04 or 08 (shuffle tests)\n",
        "\n",
        "</div>\n"
      ]
    },
    {
      "cell_type": "markdown",
      "metadata": {},
      "source": [
        "## A3.0 — Shuffle Test for Race\n",
        "\n",
        "A3.1 — Now perform the same shuffle test for race. Generate a null distribution assuming race has no effect, and compare the observed race difference to this distribution.\n"
      ]
    },
    {
      "cell_type": "code",
      "execution_count": null,
      "metadata": {
        "vscode": {
          "languageId": "r"
        }
      },
      "outputs": [],
      "source": [
        "# Observed difference (White - Black)\n",
        "obs_diff_race <- with(df, mean(call[race == \"w\"], na.rm = TRUE) - mean(call[race == \"b\"], na.rm = TRUE))\n",
        "cat(\"Observed difference (White - Black):\", obs_diff_race, \"\\n\\n\")\n",
        "\n",
        "# Shuffle test: Generate null distribution\n",
        "set.seed(456)\n",
        "n_sims <- 2000\n",
        "sim_diffs_race <- replicate(n_sims, {\n",
        "  perm <- sample(df$call)\n",
        "  mean(perm[df$race == \"w\"], na.rm = TRUE) - mean(perm[df$race == \"b\"], na.rm = TRUE)\n",
        "})\n",
        "\n",
        "# Visualize the null distribution\n",
        "gf_histogram(~ sim_diffs_race, bins = 30) %>%\n",
        "  gf_vline(xintercept = ~ obs_diff_race, color = \"red\", size = 1.5) %>%\n",
        "  gf_labs(x = \"Difference in Callback Rate (White - Black)\",\n",
        "          y = \"Frequency\",\n",
        "          title = \"Null Distribution: What if Race Had No Effect?\")\n",
        "\n",
        "# Calculate how often we see a difference as extreme or more extreme\n",
        "p_estimate_race <- mean(abs(sim_diffs_race) >= abs(obs_diff_race))\n",
        "cat(\"\\nProportion of simulations with |difference| >= |observed|:\", p_estimate_race)\n"
      ]
    },
    {
      "cell_type": "markdown",
      "metadata": {},
      "source": [
        "A3.2 — Compare the results for gender and race. Which difference appears more extreme relative to chance? What does this suggest?\n",
        "\n",
        "A3.3 — **Multiple comparisons consideration:** We've now tested both gender and race. Why might this matter when interpreting our results?\n"
      ]
    },
    {
      "cell_type": "markdown",
      "metadata": {},
      "source": [
        "__Type your answer here__\n"
      ]
    },
    {
      "cell_type": "markdown",
      "metadata": {},
      "source": [
        "<div class=\"alert alert-block alert-success\">\n",
        "\n",
        "### A4.0 — Optional Advanced: Multiple Variable Analysis — Approximate Time: 12-15 mins\n",
        "\n",
        "**Prerequisite:** Later chapters (group models, interactions, faceted plots)\n",
        "\n",
        "</div>\n"
      ]
    },
    {
      "cell_type": "markdown",
      "metadata": {},
      "source": [
        "## A4.0 — Multiple Variable Analysis\n",
        "\n",
        "A4.1 — Does the race effect vary by education level? For example, is the callback rate difference between White and Black applicants the same for college graduates as for those with less education?\n",
        "\n",
        "__Type your answer here__\n",
        "\n",
        "A4.2 — Explore callback rates across combinations of race and education. Create a visualization that shows this relationship.\n"
      ]
    },
    {
      "cell_type": "code",
      "execution_count": null,
      "metadata": {
        "vscode": {
          "languageId": "r"
        }
      },
      "outputs": [],
      "source": [
        "# Callback rates by race and education\n",
        "race_edu_callbacks <- df %>% \n",
        "  group_by(race, education) %>% \n",
        "  summarize(\n",
        "    n = n(),\n",
        "    callback_rate = mean(call, na.rm = TRUE),\n",
        "    .groups = 'drop'\n",
        "  ) %>%\n",
        "  arrange(race, education)\n",
        "\n",
        "race_edu_callbacks\n",
        "\n",
        "# Calculate differences within each education level\n",
        "race_edu_diff <- race_edu_callbacks %>%\n",
        "  pivot_wider(names_from = race, values_from = callback_rate) %>%\n",
        "  mutate(difference = w - b)\n",
        "\n",
        "race_edu_diff\n"
      ]
    },
    {
      "cell_type": "code",
      "execution_count": null,
      "metadata": {
        "vscode": {
          "languageId": "r"
        }
      },
      "outputs": [],
      "source": [
        "# Faceted plot: callback rates by race, separated by education level\n",
        "gf_props(~ race, fill = ~ factor(call), data = df) %>%\n",
        "  gf_facet_grid(. ~ factor(education)) %>%\n",
        "  gf_labs(x = \"Race\", fill = \"Callback\", y = \"Proportion\",\n",
        "          title = \"Callback Rates by Race, Across Education Levels\")\n",
        "\n",
        "# Alternative: Grouped bar chart showing rates directly\n",
        "df %>%\n",
        "  group_by(race, education) %>%\n",
        "  summarize(callback_rate = mean(call, na.rm = TRUE), .groups = 'drop') %>%\n",
        "  gf_col(callback_rate ~ factor(education), fill = ~ race, position = \"dodge\") %>%\n",
        "  gf_labs(x = \"Education Level\", y = \"Callback Rate\", fill = \"Race\",\n",
        "          title = \"Callback Rates by Race and Education\")\n"
      ]
    },
    {
      "cell_type": "markdown",
      "metadata": {},
      "source": [
        "A4.3 — What do you notice? Does the race difference appear consistent across education levels, or does it vary? What might this mean?\n",
        "\n",
        "A4.4 — Why might it be important to look at multiple variables together rather than just one at a time?\n"
      ]
    },
    {
      "cell_type": "markdown",
      "metadata": {},
      "source": [
        "__Type your answer here__\n"
      ]
    },
    {
      "cell_type": "markdown",
      "metadata": {},
      "source": [
        "<div class=\"alert alert-block alert-success\">\n",
        "\n",
        "### A5.0 — Optional Advanced: Effect Size and Practical Significance — Approximate Time: 5-7 mins\n",
        "\n",
        "</div>\n"
      ]
    },
    {
      "cell_type": "markdown",
      "metadata": {},
      "source": [
        "## A5.0 — Effect Size and Practical Significance\n",
        "\n",
        "A5.1 — Calculate the callback rate difference in percentage points (not just proportions). For race, what is the difference?\n",
        "\n",
        "A5.2 — If 100 resumes were sent for White-sounding names and 100 for Black-sounding names, how many more callbacks would White-sounding names receive on average?\n"
      ]
    },
    {
      "cell_type": "code",
      "execution_count": null,
      "metadata": {
        "vscode": {
          "languageId": "r"
        }
      },
      "outputs": [],
      "source": [
        "# Calculate difference in percentage points\n",
        "callback_by_race <- df %>% group_by(race) %>% summarize(callback_rate = mean(call, na.rm = TRUE))\n",
        "diff_prop <- callback_by_race$callback_rate[callback_by_race$race == \"w\"] - \n",
        "             callback_by_race$callback_rate[callback_by_race$race == \"b\"]\n",
        "diff_percent <- diff_prop * 100\n",
        "\n",
        "cat(\"Difference in callback rate:\", round(diff_prop, 4), \"or\", round(diff_percent, 2), \"percentage points\\n\\n\")\n",
        "\n",
        "# Calculate practical impact: if 100 resumes sent for each group\n",
        "white_rate <- callback_by_race$callback_rate[callback_by_race$race == \"w\"]\n",
        "black_rate <- callback_by_race$callback_rate[callback_by_race$race == \"b\"]\n",
        "\n",
        "cat(\"If 100 resumes sent for White-sounding names:\", round(white_rate * 100, 1), \"callbacks\\n\")\n",
        "cat(\"If 100 resumes sent for Black-sounding names:\", round(black_rate * 100, 1), \"callbacks\\n\")\n",
        "cat(\"Difference:\", round((white_rate - black_rate) * 100, 1), \"more callbacks for White-sounding names\\n\")\n",
        "\n",
        "# Scale it up: if 1000 resumes sent\n",
        "cat(\"\\nIf 1000 resumes sent for each group:\\n\")\n",
        "cat(\"White-sounding names:\", round(white_rate * 1000, 0), \"callbacks\\n\")\n",
        "cat(\"Black-sounding names:\", round(black_rate * 1000, 0), \"callbacks\\n\")\n",
        "cat(\"Difference:\", round((white_rate - black_rate) * 1000, 0), \"more callbacks for White-sounding names\")\n"
      ]
    },
    {
      "cell_type": "markdown",
      "metadata": {},
      "source": [
        "A5.3 — Is this difference \"practically significant\"? At what scale (10 resumes? 100? 1000?) does the difference become more meaningful?\n",
        "\n",
        "A5.4 — Why is it important to think about both statistical significance (from shuffle tests) and practical significance (effect size)?\n"
      ]
    },
    {
      "cell_type": "markdown",
      "metadata": {},
      "source": [
        "__Type your answer here__\n"
      ]
    }
  ],
  "metadata": {
    "language_info": {
      "name": "python"
    }
  },
  "nbformat": 4,
  "nbformat_minor": 2
}
